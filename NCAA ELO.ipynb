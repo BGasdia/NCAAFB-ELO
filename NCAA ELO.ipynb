{
 "cells": [
  {
   "cell_type": "markdown",
   "metadata": {},
   "source": [
    "Our first cell is going to import the games dataset. The games dataset inludes every NCAAFB game sine 1918"
   ]
  },
  {
   "cell_type": "code",
   "execution_count": null,
   "metadata": {},
   "outputs": [],
   "source": [
    "import pandas as pd\n",
    "import math\n",
    "\n",
    "\n",
    "#Import the dataset. Clean it up. Add required columns which I believe are self-explanatory.\n",
    "games = pd.read_csv('GameHistory.csv')\n",
    "games['Score Differential'] = games['Home Score'] - games['Away Score']\n",
    "\n",
    "#The following couple of blocks are here to create a list of all unique teams in the dataset.\n",
    "hometeams = list(games['Away Team'].unique())\n",
    "awayteams = list(games['Home Team'].unique())\n",
    "\n",
    "homeaway = hometeams + awayteams\n",
    "teams = []\n",
    "\n",
    "for team in homeaway:\n",
    "    if team not in teams:\n",
    "        teams.append(team)\n",
    "        \n",
    "#For every team in the list teams, an ELO rating of 1000 is given.\n",
    "elo = {team: 1000 for team in teams}\n",
    "\n",
    "games['Home Elo'] = pd.Series(0, index=games.index)\n",
    "games['Away Elo'] = pd.Series(0, index=games.index)\n",
    "games['Elo Change'] = pd.Series(0, index=games.index)"
   ]
  },
  {
   "cell_type": "markdown",
   "metadata": {},
   "source": [
    "The purpose of the following function is to calculate the change in elo for each team depending on the result, who is home, and who is away."
   ]
  },
  {
   "cell_type": "code",
   "execution_count": null,
   "metadata": {},
   "outputs": [],
   "source": [
    "def eloChange(eloDiff, pDiff):\n",
    "    \n",
    "    #movm = Margin of Victory Modifier\n",
    "    #hwp and awp= home win probability and away win probability\n",
    "    #K determines how volatile rankings are game to game\n",
    "    #hChange a aChange are the amount that the home and away teams ratings change after every game. Zero sum.\n",
    "    \n",
    "    \n",
    "    #As this is from the perspective of the home team, when the point differential is greater than zero\n",
    "    #We can assume that the home team has won. Likewise, if the point differential is negative\n",
    "    #We are going to assume that the home team lost\n",
    "\n",
    "    if pDiff>0:\n",
    "        movm = math.log(abs(pDiff)+1)*(2.2/((eloDiff + 55)*.001+2.2))\n",
    "        hwp = 1/(10**((eloDiff+65)/400)+1)\n",
    "        k = 22\n",
    "        change = movm * hwp * k\n",
    "        hChange = change\n",
    "        aChange = -1 * change\n",
    "        \n",
    "    elif pDiff<0:\n",
    "        movm = math.log(abs(pDiff)+1)*(2.2/((-eloDiff - 55)*.001+2.2))\n",
    "        awp = 1-1/(10**((eloDiff+65)/400)+1)\n",
    "        k = 22\n",
    "        change = movm * awp * k\n",
    "        hChange = -1 * change\n",
    "        aChange = change\n",
    "    \n",
    "    elif pDiff == 0:\n",
    "        aChange=0\n",
    "        hChange=0\n",
    "        \n",
    "    return(hChange, aChange)"
   ]
  },
  {
   "cell_type": "markdown",
   "metadata": {},
   "source": [
    "Runs through every game in the dataset, updating ratings with each result."
   ]
  },
  {
   "cell_type": "code",
   "execution_count": null,
   "metadata": {},
   "outputs": [],
   "source": [
    "for i in range(1, len(games)):\n",
    "    \n",
    "    #For each iteration game is set to a particular game. I key in on the home and away teams and their ratings\n",
    "    homeTeam = games.loc[i, 'Home Team']\n",
    "    awayTeam = games.loc[i, 'Away Team']\n",
    "    \n",
    "    #Compares data of current game to the date of the previous game.\n",
    "    #If the change in data is large enough than we can conculde it is a new season.\n",
    "    newSeason = games.loc[i, 'Code'] - games.loc[i-1, 'Code'] \n",
    "\n",
    "    #With every new season, we are going to revert each teams ELO rating to 800\n",
    "    if newSeason > 1:\n",
    "        for team in elo:\n",
    "            elo[team] = round(elo[team] * (2/3) + (900 * (1/3)),2)\n",
    "    \n",
    "    #For each row, this incorporates the home and away teams elo ratings into the data.\n",
    "    games.loc[i, 'Home Elo'] = round(elo[homeTeam],2)\n",
    "    games.loc[i, 'Away Elo'] = round(elo[awayTeam],2)\n",
    "    \n",
    "    #Like the previous columns, this is setting the score differential for each row in the data table.\n",
    "    pDiff = games.loc[i, 'Score Differential']\n",
    "    eloDiff = (elo[homeTeam] - elo[awayTeam])\n",
    "         \n",
    "    h, a = eloChange(eloDiff, pDiff)\n",
    "    \n",
    "    elo[homeTeam] += h\n",
    "    elo[awayTeam] += a\n",
    "    games.loc[i, 'Elo Change'] = abs(a)\n",
    "     \n",
    "games.head()"
   ]
  },
  {
   "cell_type": "markdown",
   "metadata": {},
   "source": [
    "Lastly I spit this all out to a CSV file"
   ]
  },
  {
   "cell_type": "code",
   "execution_count": null,
   "metadata": {},
   "outputs": [],
   "source": [
    "games.to_csv('ncaaElo.csv', index = False)"
   ]
  }
 ],
 "metadata": {
  "kernelspec": {
   "display_name": "Python 3",
   "language": "python",
   "name": "python3"
  },
  "language_info": {
   "codemirror_mode": {
    "name": "ipython",
    "version": 3
   },
   "file_extension": ".py",
   "mimetype": "text/x-python",
   "name": "python",
   "nbconvert_exporter": "python",
   "pygments_lexer": "ipython3",
   "version": "3.6.5"
  }
 },
 "nbformat": 4,
 "nbformat_minor": 2
}
